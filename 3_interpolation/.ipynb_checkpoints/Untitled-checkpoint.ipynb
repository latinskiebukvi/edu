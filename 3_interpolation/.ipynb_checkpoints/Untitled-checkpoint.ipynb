{
 "cells": [
  {
   "cell_type": "code",
   "execution_count": 7,
   "metadata": {},
   "outputs": [],
   "source": [
    "import pandas as pd\n",
    "import matplotlib.pyplot as plt\n",
    "import numpy as np\n",
    "from sklearn.linear_model import LinearRegression\n",
    "from sklearn.preprocessing import PolynomialFeatures\n",
    "\n",
    "\n",
    "def readDF(path = 'Task_data_EURUSD.csv', nRows = None):\n",
    "    df = pd.read_csv(path, delimiter = ';')\n",
    "    return df.iloc[0:nRows]\n",
    "\n",
    "        \n",
    "def write(df, name = 'Данные до интерполяции'):\n",
    "    txt = open(name + '.txt', 'w')\n",
    "    txt.write(df.to_string())    \n",
    "\n",
    "        \n",
    "def setForInterp(a = -5, b = 5, chebyshev = False, n = 10):\n",
    "    f = lambda x: -np.sinc(1.5 * x)\n",
    "    \n",
    "    if chebyshev == True:\n",
    "        x = [((a + b) / 2) + ((b - a) * np.cos((2 * i - 1) * np.pi / (2 * n)) / 2) \\\n",
    "            for i in range (1, n + 1)]\n",
    "        y = np.zeros(len(x))\n",
    "        for i in range(len(x)):\n",
    "            y[i] = f(x[i])\n",
    "    else:\n",
    "        x = np.linspace(a, b, n)\n",
    "        y = np.array(f(x))\n",
    "    \n",
    "    df = pd.DataFrame({'x': x,\\\n",
    "                       'y': y})\n",
    "    return df\n",
    "\n",
    "\n",
    "def polynominalSet(set = setForInterp(n = 10), n = 20):\n",
    "    '''Возвращет набор данных, интерполированных полиномом Лагранжа.'''\n",
    "    x = set['x']\n",
    "    y = set['y']\n",
    "    a = min(x)\n",
    "    b = max(x)\n",
    "    t = np.linspace(a, b, n)\n",
    "    \n",
    "    def lagrangianPol(x, y, t):\n",
    "        '''Интерполяционный полином Лагранжа.'''\n",
    "        p = 0\n",
    "        for i in range(len(x)):\n",
    "            li = 1\n",
    "            for j in range(len(x)):\n",
    "                if j != i:\n",
    "                    li *= (t - x[j]) / (x[i] - x[j])\n",
    "            p += y[i] * li \n",
    "        return p\n",
    "    \n",
    "    \n",
    "    df = pd.DataFrame({'x': t,\n",
    "                       'y': lagrangianPol(x, y, t)})\n",
    "    return df\n",
    "        \n",
    "    \n",
    "def draw(*df, drawtype = 'data', col1 = 'x', col2 = 'y', color = None, linestyle = None, layers = []):\n",
    "    fig = plt.figure(figsize = (10, 5))\n",
    "    plot = fig.add_subplot()\n",
    "    \n",
    "    if drawtype == 'data':\n",
    "        plot.set_xlabel(col1, fontsize = 14)\n",
    "        plot.set_ylabel(col2, fontsize = 14)\n",
    "        for i in range(len(df)):\n",
    "            plot.scatter(df[i][col1], df[i][col2], marker = 'x', color = 'r')\n",
    "    \n",
    "    elif drawtype == 'ExchangeRates':\n",
    "        col1 = None\n",
    "        #plot.set_xlabel('Date', fontsize = 14)\n",
    "        #plot.set_ylabel('EUR/USD', fontsize = 14)\n",
    "        for i in range(len(df)):\n",
    "            plot.plot(df[i][col2], label = col2)\n",
    "\n",
    "    elif drawtype == 'regr':\n",
    "        for i in range(len(df)):\n",
    "            for col2 in layers:\n",
    "                plot.plot(df[i][col1], df[i][col2], color = color, linestyle = linestyle, label = col2)\n",
    "        plot.set_ylim(1.15, 1.23)\n",
    "        plot.legend(fontsize = 14)\n",
    "        \n",
    "    elif drawtype == 'dataframes':\n",
    "        for i in range(len(df)):\n",
    "            if i != 0:\n",
    "                plot.scatter(df[i][col1], df[i][col2], marker = 'o', color = color[i])\n",
    "            else:\n",
    "                plot.plot(df[i][col1], df[i][col2], linestyle = '--', marker = 'x', color = color[i])\n",
    "        plot.set_ylim(-1.6, 1.4)\n",
    "        \n",
    "    return plot\n",
    "\n",
    "\n",
    "def regr(df):\n",
    "    x = np.array([i for i in range (1, 15)]).reshape(-1, 1)\n",
    "    y = np.array(df['<CLOSE>'][:14])\n",
    "    \n",
    "    model = LinearRegression()\n",
    "    \n",
    "    quad_reg = PolynomialFeatures(degree = 2)\n",
    "    three_reg = PolynomialFeatures(degree = 3)\n",
    "    \n",
    "    x_quad = quad_reg.fit_transform(x)\n",
    "    x_three = three_reg.fit_transform(x)\n",
    "    x_new = np.append(x, np.array([i for i in range(len(x)+1, len(x)+11)])).reshape(-1,1)\n",
    "    #\n",
    "    model = model.fit(x, y)\n",
    "    lineR2 = model.score(x, y)\n",
    "    y_line_new = model.predict(x_new)\n",
    "    #\n",
    "    model = model.fit(x_quad, y)\n",
    "    quadR2 = model.score(x_quad, y)\n",
    "    x_quad_new = quad_reg.fit_transform(x_new)\n",
    "    y_quad_new = model.predict(x_quad_new)\n",
    "    #\n",
    "    model = model.fit(x_three, y)\n",
    "    threeR2 = model.score(x_three, y)\n",
    "    x_three_new = three_reg.fit_transform(x_new)\n",
    "    y_three_new = model.predict(x_three_new)\n",
    "    \n",
    "    dfnew = pd.DataFrame({'days': (int(x_new[i]) for i in range(len(x_new))), \\\n",
    "                          'linear': (y_line_new[i] for i in range(len(y_line_new))), \\\n",
    "                          'quad': (y_quad_new[i] for i in range(len(y_line_new))), \\\n",
    "                          'three': (y_three_new[i] for i in range(len(y_line_new))),\n",
    "                          'linearErr': lineR2, 'quadErr': quadR2, 'threeErr': threeR2})\n",
    "    df = pd.concat([df, dfnew], axis = 1)\n",
    "    return df"
   ]
  },
  {
   "cell_type": "code",
   "execution_count": 8,
   "metadata": {},
   "outputs": [
    {
     "data": {
      "text/html": [
       "<div>\n",
       "<style scoped>\n",
       "    .dataframe tbody tr th:only-of-type {\n",
       "        vertical-align: middle;\n",
       "    }\n",
       "\n",
       "    .dataframe tbody tr th {\n",
       "        vertical-align: top;\n",
       "    }\n",
       "\n",
       "    .dataframe thead th {\n",
       "        text-align: right;\n",
       "    }\n",
       "</style>\n",
       "<table border=\"1\" class=\"dataframe\">\n",
       "  <thead>\n",
       "    <tr style=\"text-align: right;\">\n",
       "      <th></th>\n",
       "      <th>x</th>\n",
       "      <th>y</th>\n",
       "    </tr>\n",
       "  </thead>\n",
       "  <tbody>\n",
       "    <tr>\n",
       "      <th>0</th>\n",
       "      <td>-4.938442</td>\n",
       "      <td>0.041175</td>\n",
       "    </tr>\n",
       "    <tr>\n",
       "      <th>1</th>\n",
       "      <td>-3.841010</td>\n",
       "      <td>0.018846</td>\n",
       "    </tr>\n",
       "    <tr>\n",
       "      <th>2</th>\n",
       "      <td>-2.743579</td>\n",
       "      <td>0.083114</td>\n",
       "    </tr>\n",
       "    <tr>\n",
       "      <th>3</th>\n",
       "      <td>-1.646147</td>\n",
       "      <td>0.104597</td>\n",
       "    </tr>\n",
       "    <tr>\n",
       "      <th>4</th>\n",
       "      <td>-0.548716</td>\n",
       "      <td>0.148680</td>\n",
       "    </tr>\n",
       "    <tr>\n",
       "      <th>5</th>\n",
       "      <td>0.548716</td>\n",
       "      <td>0.148680</td>\n",
       "    </tr>\n",
       "    <tr>\n",
       "      <th>6</th>\n",
       "      <td>1.646147</td>\n",
       "      <td>0.104597</td>\n",
       "    </tr>\n",
       "    <tr>\n",
       "      <th>7</th>\n",
       "      <td>2.743579</td>\n",
       "      <td>0.083114</td>\n",
       "    </tr>\n",
       "    <tr>\n",
       "      <th>8</th>\n",
       "      <td>3.841010</td>\n",
       "      <td>0.018846</td>\n",
       "    </tr>\n",
       "    <tr>\n",
       "      <th>9</th>\n",
       "      <td>4.938442</td>\n",
       "      <td>0.041175</td>\n",
       "    </tr>\n",
       "  </tbody>\n",
       "</table>\n",
       "</div>"
      ],
      "text/plain": [
       "          x         y\n",
       "0 -4.938442  0.041175\n",
       "1 -3.841010  0.018846\n",
       "2 -2.743579  0.083114\n",
       "3 -1.646147  0.104597\n",
       "4 -0.548716  0.148680\n",
       "5  0.548716  0.148680\n",
       "6  1.646147  0.104597\n",
       "7  2.743579  0.083114\n",
       "8  3.841010  0.018846\n",
       "9  4.938442  0.041175"
      ]
     },
     "execution_count": 8,
     "metadata": {},
     "output_type": "execute_result"
    }
   ],
   "source": [
    "polynominalSet(setForInterp(a = -5, b = 5, chebyshev = True, n = 10), n = 10)"
   ]
  },
  {
   "cell_type": "markdown",
   "metadata": {},
   "source": [
    "1. 1) Формирование набора исходных данных для интерполяции функции -sinc(1.5 * x) на интервале [-5, 5].\n",
    "Данные представлены в виде таблицы и записаны в текстовый файл"
   ]
  },
  {
   "cell_type": "code",
   "execution_count": 9,
   "metadata": {
    "scrolled": true
   },
   "outputs": [
    {
     "data": {
      "image/png": "[encoded data removed]",
      "text/plain": [
       "<Figure size 720x360 with 1 Axes>"
      ]
     },
     "metadata": {
      "needs_background": "light"
     },
     "output_type": "display_data"
    }
   ],
   "source": [
    "draw(setForInterp(n = 10))\n",
    "write(setForInterp(n = 10))"
   ]
  },
  {
   "cell_type": "markdown",
   "metadata": {},
   "source": [
    "1. 2) Реализована функция polynominalSet(), возвращающая набор данных, полученых при помощи интерполяции полиномом Лагранжа.\n",
    "1. 3) Исходные данные были интерполированны, количество узлов исходных данных - 15, количество узлов полинома Лагранжа - 40. Результат интерполяции записан в текстовый файл."
   ]
  },
  {
   "cell_type": "code",
   "execution_count": 10,
   "metadata": {},
   "outputs": [
    {
     "data": {
      "text/plain": [
       "<AxesSubplot:>"
      ]
     },
     "execution_count": 10,
     "metadata": {},
     "output_type": "execute_result"
    },
    {
     "data": {
      "image/png": "[encoded data removed]",
      "text/plain": [
       "<Figure size 720x360 with 1 Axes>"
      ]
     },
     "metadata": {
      "needs_background": "light"
     },
     "output_type": "display_data"
    }
   ],
   "source": [
    "draw(setForInterp(n = 15), polynominalSet(setForInterp(n = 15), n = 40), drawtype = 'dataframes', \\\n",
    "     col1 = 'x', col2 = 'y', color = ['y','b'], linestyle = None, layers = [])"
   ]
  },
  {
   "cell_type": "markdown",
   "metadata": {},
   "source": [
    "1. 4) Применение интерполяции полиномом Лагранжа с использованием набора данных, полученного с помощью полинома Чебышева."
   ]
  },
  {
   "cell_type": "code",
   "execution_count": 11,
   "metadata": {},
   "outputs": [
    {
     "data": {
      "text/plain": [
       "<AxesSubplot:>"
      ]
     },
     "execution_count": 11,
     "metadata": {},
     "output_type": "execute_result"
    },
    {
     "data": {
      "image/png": "[encoded data removed]",
      "text/plain": [
       "<Figure size 720x360 with 1 Axes>"
      ]
     },
     "metadata": {
      "needs_background": "light"
     },
     "output_type": "display_data"
    }
   ],
   "source": [
    "draw(setForInterp(chebyshev = True, n = 11), polynominalSet(setForInterp(chebyshev = True, n = 11), n = 40),\\\n",
    "     drawtype = 'dataframes', col1 = 'x', col2 = 'y', color = ['y','b'], linestyle = None, layers = [])"
   ]
  },
  {
   "cell_type": "markdown",
   "metadata": {},
   "source": [
    "2. 1) Загружены данные, выведены первые 10 строк таблицы."
   ]
  },
  {
   "cell_type": "code",
   "execution_count": 12,
   "metadata": {},
   "outputs": [
    {
     "data": {
      "text/html": [
       "<div>\n",
       "<style scoped>\n",
       "    .dataframe tbody tr th:only-of-type {\n",
       "        vertical-align: middle;\n",
       "    }\n",
       "\n",
       "    .dataframe tbody tr th {\n",
       "        vertical-align: top;\n",
       "    }\n",
       "\n",
       "    .dataframe thead th {\n",
       "        text-align: right;\n",
       "    }\n",
       "</style>\n",
       "<table border=\"1\" class=\"dataframe\">\n",
       "  <thead>\n",
       "    <tr style=\"text-align: right;\">\n",
       "      <th></th>\n",
       "      <th>&lt;TICKER&gt;</th>\n",
       "      <th>&lt;PER&gt;</th>\n",
       "      <th>&lt;DATE&gt;</th>\n",
       "      <th>&lt;TIME&gt;</th>\n",
       "      <th>&lt;OPEN&gt;</th>\n",
       "      <th>&lt;HIGH&gt;</th>\n",
       "      <th>&lt;LOW&gt;</th>\n",
       "      <th>&lt;CLOSE&gt;</th>\n",
       "    </tr>\n",
       "  </thead>\n",
       "  <tbody>\n",
       "    <tr>\n",
       "      <th>0</th>\n",
       "      <td>EURUSD</td>\n",
       "      <td>D</td>\n",
       "      <td>210201</td>\n",
       "      <td>0</td>\n",
       "      <td>1.21227</td>\n",
       "      <td>1.21365</td>\n",
       "      <td>1.20530</td>\n",
       "      <td>1.20677</td>\n",
       "    </tr>\n",
       "    <tr>\n",
       "      <th>1</th>\n",
       "      <td>EURUSD</td>\n",
       "      <td>D</td>\n",
       "      <td>210202</td>\n",
       "      <td>0</td>\n",
       "      <td>1.20677</td>\n",
       "      <td>1.20878</td>\n",
       "      <td>1.20100</td>\n",
       "      <td>1.20360</td>\n",
       "    </tr>\n",
       "    <tr>\n",
       "      <th>2</th>\n",
       "      <td>EURUSD</td>\n",
       "      <td>D</td>\n",
       "      <td>210203</td>\n",
       "      <td>0</td>\n",
       "      <td>1.20368</td>\n",
       "      <td>1.20502</td>\n",
       "      <td>1.20020</td>\n",
       "      <td>1.20410</td>\n",
       "    </tr>\n",
       "    <tr>\n",
       "      <th>3</th>\n",
       "      <td>EURUSD</td>\n",
       "      <td>D</td>\n",
       "      <td>210204</td>\n",
       "      <td>0</td>\n",
       "      <td>1.20413</td>\n",
       "      <td>1.20430</td>\n",
       "      <td>1.19560</td>\n",
       "      <td>1.19656</td>\n",
       "    </tr>\n",
       "    <tr>\n",
       "      <th>4</th>\n",
       "      <td>EURUSD</td>\n",
       "      <td>D</td>\n",
       "      <td>210205</td>\n",
       "      <td>0</td>\n",
       "      <td>1.19663</td>\n",
       "      <td>1.20500</td>\n",
       "      <td>1.19510</td>\n",
       "      <td>1.20476</td>\n",
       "    </tr>\n",
       "    <tr>\n",
       "      <th>5</th>\n",
       "      <td>EURUSD</td>\n",
       "      <td>D</td>\n",
       "      <td>210207</td>\n",
       "      <td>0</td>\n",
       "      <td>1.20460</td>\n",
       "      <td>1.20551</td>\n",
       "      <td>1.20327</td>\n",
       "      <td>1.20484</td>\n",
       "    </tr>\n",
       "    <tr>\n",
       "      <th>6</th>\n",
       "      <td>EURUSD</td>\n",
       "      <td>D</td>\n",
       "      <td>210208</td>\n",
       "      <td>0</td>\n",
       "      <td>1.20484</td>\n",
       "      <td>1.20660</td>\n",
       "      <td>1.20180</td>\n",
       "      <td>1.20510</td>\n",
       "    </tr>\n",
       "    <tr>\n",
       "      <th>7</th>\n",
       "      <td>EURUSD</td>\n",
       "      <td>D</td>\n",
       "      <td>210209</td>\n",
       "      <td>0</td>\n",
       "      <td>1.20522</td>\n",
       "      <td>1.21220</td>\n",
       "      <td>1.20480</td>\n",
       "      <td>1.21156</td>\n",
       "    </tr>\n",
       "    <tr>\n",
       "      <th>8</th>\n",
       "      <td>EURUSD</td>\n",
       "      <td>D</td>\n",
       "      <td>210210</td>\n",
       "      <td>0</td>\n",
       "      <td>1.21158</td>\n",
       "      <td>1.21441</td>\n",
       "      <td>1.21070</td>\n",
       "      <td>1.21191</td>\n",
       "    </tr>\n",
       "    <tr>\n",
       "      <th>9</th>\n",
       "      <td>EURUSD</td>\n",
       "      <td>D</td>\n",
       "      <td>210211</td>\n",
       "      <td>0</td>\n",
       "      <td>1.21179</td>\n",
       "      <td>1.21495</td>\n",
       "      <td>1.21110</td>\n",
       "      <td>1.21297</td>\n",
       "    </tr>\n",
       "  </tbody>\n",
       "</table>\n",
       "</div>"
      ],
      "text/plain": [
       "  <TICKER> <PER>  <DATE>  <TIME>   <OPEN>   <HIGH>    <LOW>  <CLOSE>\n",
       "0   EURUSD     D  210201       0  1.21227  1.21365  1.20530  1.20677\n",
       "1   EURUSD     D  210202       0  1.20677  1.20878  1.20100  1.20360\n",
       "2   EURUSD     D  210203       0  1.20368  1.20502  1.20020  1.20410\n",
       "3   EURUSD     D  210204       0  1.20413  1.20430  1.19560  1.19656\n",
       "4   EURUSD     D  210205       0  1.19663  1.20500  1.19510  1.20476\n",
       "5   EURUSD     D  210207       0  1.20460  1.20551  1.20327  1.20484\n",
       "6   EURUSD     D  210208       0  1.20484  1.20660  1.20180  1.20510\n",
       "7   EURUSD     D  210209       0  1.20522  1.21220  1.20480  1.21156\n",
       "8   EURUSD     D  210210       0  1.21158  1.21441  1.21070  1.21191\n",
       "9   EURUSD     D  210211       0  1.21179  1.21495  1.21110  1.21297"
      ]
     },
     "execution_count": 12,
     "metadata": {},
     "output_type": "execute_result"
    }
   ],
   "source": [
    "readDF(nRows = 10)"
   ]
  },
  {
   "cell_type": "markdown",
   "metadata": {},
   "source": [
    "2. 1) Построен график цены закрытия."
   ]
  },
  {
   "cell_type": "code",
   "execution_count": 13,
   "metadata": {},
   "outputs": [
    {
     "data": {
      "text/plain": [
       "<AxesSubplot:>"
      ]
     },
     "execution_count": 13,
     "metadata": {},
     "output_type": "execute_result"
    },
    {
     "data": {
      "image/png": "[encoded data removed]",
      "text/plain": [
       "<Figure size 720x360 with 1 Axes>"
      ]
     },
     "metadata": {
      "needs_background": "light"
     },
     "output_type": "display_data"
    }
   ],
   "source": [
    "draw(readDF(), col2 = '<CLOSE>', drawtype = 'ExchangeRates')"
   ]
  },
  {
   "cell_type": "markdown",
   "metadata": {},
   "source": [
    "2. 2) Построены модели полиноминальной регрессии по значениям столбца цены закрытия. Выполнен прогноз цены закрытия."
   ]
  },
  {
   "cell_type": "code",
   "execution_count": 14,
   "metadata": {
    "scrolled": true
   },
   "outputs": [
    {
     "data": {
      "text/html": [
       "<div>\n",
       "<style scoped>\n",
       "    .dataframe tbody tr th:only-of-type {\n",
       "        vertical-align: middle;\n",
       "    }\n",
       "\n",
       "    .dataframe tbody tr th {\n",
       "        vertical-align: top;\n",
       "    }\n",
       "\n",
       "    .dataframe thead th {\n",
       "        text-align: right;\n",
       "    }\n",
       "</style>\n",
       "<table border=\"1\" class=\"dataframe\">\n",
       "  <thead>\n",
       "    <tr style=\"text-align: right;\">\n",
       "      <th></th>\n",
       "      <th>&lt;TICKER&gt;</th>\n",
       "      <th>&lt;PER&gt;</th>\n",
       "      <th>&lt;DATE&gt;</th>\n",
       "      <th>&lt;TIME&gt;</th>\n",
       "      <th>&lt;OPEN&gt;</th>\n",
       "      <th>&lt;HIGH&gt;</th>\n",
       "      <th>&lt;LOW&gt;</th>\n",
       "      <th>&lt;CLOSE&gt;</th>\n",
       "      <th>days</th>\n",
       "      <th>linear</th>\n",
       "      <th>quad</th>\n",
       "      <th>three</th>\n",
       "      <th>linearErr</th>\n",
       "      <th>quadErr</th>\n",
       "      <th>threeErr</th>\n",
       "    </tr>\n",
       "  </thead>\n",
       "  <tbody>\n",
       "    <tr>\n",
       "      <th>0</th>\n",
       "      <td>EURUSD</td>\n",
       "      <td>D</td>\n",
       "      <td>210201</td>\n",
       "      <td>0</td>\n",
       "      <td>1.21227</td>\n",
       "      <td>1.21365</td>\n",
       "      <td>1.2053</td>\n",
       "      <td>1.20677</td>\n",
       "      <td>1.0</td>\n",
       "      <td>1.202304</td>\n",
       "      <td>1.202230</td>\n",
       "      <td>1.206703</td>\n",
       "      <td>0.515305</td>\n",
       "      <td>0.515383</td>\n",
       "      <td>0.826013</td>\n",
       "    </tr>\n",
       "    <tr>\n",
       "      <th>1</th>\n",
       "      <td>EURUSD</td>\n",
       "      <td>D</td>\n",
       "      <td>210202</td>\n",
       "      <td>0</td>\n",
       "      <td>1.20677</td>\n",
       "      <td>1.20878</td>\n",
       "      <td>1.2010</td>\n",
       "      <td>1.20360</td>\n",
       "      <td>2.0</td>\n",
       "      <td>1.203137</td>\n",
       "      <td>1.203097</td>\n",
       "      <td>1.203441</td>\n",
       "      <td>0.515305</td>\n",
       "      <td>0.515383</td>\n",
       "      <td>0.826013</td>\n",
       "    </tr>\n",
       "    <tr>\n",
       "      <th>2</th>\n",
       "      <td>EURUSD</td>\n",
       "      <td>D</td>\n",
       "      <td>210203</td>\n",
       "      <td>0</td>\n",
       "      <td>1.20368</td>\n",
       "      <td>1.20502</td>\n",
       "      <td>1.2002</td>\n",
       "      <td>1.20410</td>\n",
       "      <td>3.0</td>\n",
       "      <td>1.203970</td>\n",
       "      <td>1.203959</td>\n",
       "      <td>1.201894</td>\n",
       "      <td>0.515305</td>\n",
       "      <td>0.515383</td>\n",
       "      <td>0.826013</td>\n",
       "    </tr>\n",
       "    <tr>\n",
       "      <th>3</th>\n",
       "      <td>EURUSD</td>\n",
       "      <td>D</td>\n",
       "      <td>210204</td>\n",
       "      <td>0</td>\n",
       "      <td>1.20413</td>\n",
       "      <td>1.20430</td>\n",
       "      <td>1.1956</td>\n",
       "      <td>1.19656</td>\n",
       "      <td>4.0</td>\n",
       "      <td>1.204803</td>\n",
       "      <td>1.204815</td>\n",
       "      <td>1.201749</td>\n",
       "      <td>0.515305</td>\n",
       "      <td>0.515383</td>\n",
       "      <td>0.826013</td>\n",
       "    </tr>\n",
       "    <tr>\n",
       "      <th>4</th>\n",
       "      <td>EURUSD</td>\n",
       "      <td>D</td>\n",
       "      <td>210205</td>\n",
       "      <td>0</td>\n",
       "      <td>1.19663</td>\n",
       "      <td>1.20500</td>\n",
       "      <td>1.1951</td>\n",
       "      <td>1.20476</td>\n",
       "      <td>5.0</td>\n",
       "      <td>1.205636</td>\n",
       "      <td>1.205665</td>\n",
       "      <td>1.202693</td>\n",
       "      <td>0.515305</td>\n",
       "      <td>0.515383</td>\n",
       "      <td>0.826013</td>\n",
       "    </tr>\n",
       "  </tbody>\n",
       "</table>\n",
       "</div>"
      ],
      "text/plain": [
       "  <TICKER> <PER>  <DATE>  <TIME>   <OPEN>   <HIGH>   <LOW>  <CLOSE>  days  \\\n",
       "0   EURUSD     D  210201       0  1.21227  1.21365  1.2053  1.20677   1.0   \n",
       "1   EURUSD     D  210202       0  1.20677  1.20878  1.2010  1.20360   2.0   \n",
       "2   EURUSD     D  210203       0  1.20368  1.20502  1.2002  1.20410   3.0   \n",
       "3   EURUSD     D  210204       0  1.20413  1.20430  1.1956  1.19656   4.0   \n",
       "4   EURUSD     D  210205       0  1.19663  1.20500  1.1951  1.20476   5.0   \n",
       "\n",
       "     linear      quad     three  linearErr   quadErr  threeErr  \n",
       "0  1.202304  1.202230  1.206703   0.515305  0.515383  0.826013  \n",
       "1  1.203137  1.203097  1.203441   0.515305  0.515383  0.826013  \n",
       "2  1.203970  1.203959  1.201894   0.515305  0.515383  0.826013  \n",
       "3  1.204803  1.204815  1.201749   0.515305  0.515383  0.826013  \n",
       "4  1.205636  1.205665  1.202693   0.515305  0.515383  0.826013  "
      ]
     },
     "execution_count": 14,
     "metadata": {},
     "output_type": "execute_result"
    }
   ],
   "source": [
    "regr(readDF())[:5]"
   ]
  },
  {
   "cell_type": "markdown",
   "metadata": {},
   "source": [
    "2. 3) Построены графики цены закрытия и значений регрессионных моделей. Указаны коэффициенты корелляции R^2."
   ]
  },
  {
   "cell_type": "code",
   "execution_count": 15,
   "metadata": {},
   "outputs": [
    {
     "name": "stdout",
     "output_type": "stream",
     "text": [
      "n = 1, R^2 = 0.5153\n",
      "n = 2, R^2 = 0.5154\n",
      "n = 3, R^2 = 0.826\n"
     ]
    },
    {
     "data": {
      "image/png": "[encoded data removed]",
      "text/plain": [
       "<Figure size 720x360 with 1 Axes>"
      ]
     },
     "metadata": {
      "needs_background": "light"
     },
     "output_type": "display_data"
    }
   ],
   "source": [
    "draw(regr(readDF()), drawtype = 'regr', col1 = 'days', linestyle = 'dotted', \\\n",
    "     layers = ['<CLOSE>', 'linear', 'quad', 'three'])\n",
    "print('n = 1, R^2 = '+ str(round(float(regr(readDF())['linearErr'][0]), 4)))\n",
    "print('n = 2, R^2 = '+ str(round(float(regr(readDF())['quadErr'][0]), 4)))\n",
    "print('n = 3, R^2 = '+ str(round(float(regr(readDF())['threeErr'][0]), 4)))"
   ]
  },
  {
   "cell_type": "markdown",
   "metadata": {},
   "source": [
    "2. 4) На основании полученного коэффициента корреляции R^2 = 0.826, можно сделать вывод о том, что модель регрессия степени n = 3 наилучшим образом аппроксимирует исходные данные, но, исходя из полученного графика, не является оптимальным решением в задаче долгосрочного прогнозирования. Модели регрессии n = 1 и n = 2, для которых характерны коэффициенты корреляции R^2 = 0.5153 и R^2 = 0.5154 соответственно, достаточным образом аппроксимируют исходные данные и позволяют получить более корректную трендовую составляющую, с помощью которой может быть осуществлено прогнозирование на более долгий срок в сравнении с трендовой составляющей модели регрессии n = 3."
   ]
  }
 ],
 "metadata": {
  "kernelspec": {
   "display_name": "Python 3",
   "language": "python",
   "name": "python3"
  },
  "language_info": {
   "codemirror_mode": {
    "name": "ipython",
    "version": 3
   },
   "file_extension": ".py",
   "mimetype": "text/x-python",
   "name": "python",
   "nbconvert_exporter": "python",
   "pygments_lexer": "ipython3",
   "version": "3.8.8"
  }
 },
 "nbformat": 4,
 "nbformat_minor": 4
}
