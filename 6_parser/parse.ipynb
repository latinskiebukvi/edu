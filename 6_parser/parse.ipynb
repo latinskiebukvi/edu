{
 "cells": [
  {
   "cell_type": "code",
   "execution_count": 2,
   "metadata": {},
   "outputs": [],
   "source": [
    "from bs4 import BeautifulSoup\n",
    "import requests\n",
    "\n",
    "from pandas import DataFrame as pd\n",
    "\n",
    "\n",
    "PAGE = \"https://scrapingclub.com\"\n",
    "PREF = \"/exercise/list_basic/?page=1\"\n",
    "HEADERS = {'User-Agent': 'Mozilla/5.0 (Macintosh; Intel Mac OS X 10_10_1) AppleWebKit/537.36 (KHTML, like Gecko) Chrome/39.0.2171.95 Safari/537.36'}\n",
    "\n",
    "\n",
    "################## With tags ##################\n",
    "def getSoup(page = PAGE, pref = PREF):\n",
    "    req = requests.get(page + pref, headers = HEADERS)\n",
    "    soup = BeautifulSoup(req.text, \"html.parser\")\n",
    "    return soup\n",
    "\n",
    "\n",
    "def getNavHrefs(soup):\n",
    "    navHrefs = [PREF]\n",
    "    soup = getSoup()\n",
    "\n",
    "    navigateBar = soup.find(\"ul\", attrs={\"class\":\"pagination\"})\n",
    "    navButtons = navigateBar.find_all(lambda tag:tag.name == \"a\" \\\n",
    "                                      and \"page\" in tag[\"href\"]  \\\n",
    "                                      and tag.text != \"Next\")\n",
    "    for button in navButtons:\n",
    "        navHrefs.append(\"/exercise/list_basic/\" + button[\"href\"])\n",
    "    \n",
    "    return navHrefs\n",
    "\n",
    "\n",
    "def getInfFromCards(soup):\n",
    "    itemsHrefs = []\n",
    "\n",
    "    container = soup.find(\"div\", attrs={\"class\" : \"row my-4\"})\n",
    "    names = container.find_all(\"h4\")\n",
    "    prices = container.find_all(\"h5\")\n",
    "\n",
    "    for item in range(len(names)):\n",
    "        name = names[item].text.replace(\"\\n\", \"\")\n",
    "        price = prices[item].text\n",
    "        \n",
    "        itemsHrefs.append({\n",
    "            \"name\" : name,\n",
    "            \"price\" : price,\n",
    "        })\n",
    "    return itemsHrefs\n",
    "\n",
    "\n",
    "################## With CSS selectors ##################\n",
    "def getSoupCSS(page = PAGE, pref = PREF):\n",
    "    req = requests.get(page + pref)\n",
    "    soup = BeautifulSoup(req.text, \"html.parser\")\n",
    "    return soup\n",
    "    \n",
    "\n",
    "def getNavHrefsCSS(soup):\n",
    "    navHrefs = [PREF]\n",
    "    soup = getSoup()\n",
    "\n",
    "    navigateBar = soup.select(\"a.page-link\")\n",
    "\n",
    "    for i in navigateBar:\n",
    "        navHrefs.append(\"/exercise/list_basic/\" + i[\"href\"])\n",
    "    return navHrefs\n",
    "\n",
    "\n",
    "def getInfFromCardsCSS(soup):\n",
    "    itemsHrefs = []\n",
    "\n",
    "    names = soup.select(\"h4.card-title\")\n",
    "    prices = soup.select(\"h5\")\n",
    "\n",
    "    for item in range(len(names)):\n",
    "        itemsHrefs.append({\n",
    "            \"name\" : (names[item].text).replace(\"\\n\", \"\"),\n",
    "            \"price\" : prices[item].text\n",
    "        })\n",
    "    return itemsHrefs\n",
    "\n",
    "\n",
    "def toPD(nav, func):\n",
    "    \"\"\"Проходит по списку ссылок nav, собирает Pandas DataFrame\"\"\"\n",
    "    dfCards = pd(columns=[\"name\", \"price\",])\n",
    "\n",
    "    for i in nav:\n",
    "        soup = getSoup(page = PAGE, pref = i)\n",
    "        cards = func(soup)\n",
    "        for card in cards:\n",
    "            dfCards = dfCards.append(card, ignore_index = True)\n",
    "\n",
    "    dfCards.to_csv(f\"./result_docs/{func.__name__}.csv\", index=True)\n",
    "    dfCards.to_excel(f\"./result_docs/{func.__name__}.xlsx\", index=True)\n",
    "\n",
    "    return dfCards"
   ]
  },
  {
   "cell_type": "markdown",
   "metadata": {},
   "source": [
    "1. Поиск по тегам"
   ]
  },
  {
   "cell_type": "code",
   "execution_count": 6,
   "metadata": {},
   "outputs": [
    {
     "name": "stdout",
     "output_type": "stream",
     "text": [
      "                     name   price\n",
      "0             Short Dress  $24.99\n",
      "1        Patterned Slacks  $29.99\n",
      "2     Short Chiffon Dress  $49.99\n",
      "3  Off-the-shoulder Dress  $59.99\n",
      "4              V-neck Top  $24.99\n"
     ]
    }
   ],
   "source": [
    "soup = getSoup()\n",
    "nav = getNavHrefs(soup = soup)\n",
    "\n",
    "df = toPD(nav = nav, func = getInfFromCards)\n",
    "\n",
    "print(df[:5])"
   ]
  },
  {
   "cell_type": "markdown",
   "metadata": {},
   "source": [
    "2. Поиск по селекторам"
   ]
  },
  {
   "cell_type": "code",
   "execution_count": 7,
   "metadata": {},
   "outputs": [
    {
     "name": "stdout",
     "output_type": "stream",
     "text": [
      "                     name   price\n",
      "0             Short Dress  $24.99\n",
      "1        Patterned Slacks  $29.99\n",
      "2     Short Chiffon Dress  $49.99\n",
      "3  Off-the-shoulder Dress  $59.99\n",
      "4              V-neck Top  $24.99\n"
     ]
    }
   ],
   "source": [
    "soupCSS = getSoupCSS()\n",
    "navCSS = getNavHrefsCSS(soup = soupCSS)\n",
    "\n",
    "dfCSS = toPD(nav = navCSS, func = getInfFromCardsCSS)\n",
    "\n",
    "print(dfCSS[:5])"
   ]
  }
 ],
 "metadata": {
  "interpreter": {
   "hash": "279c4c9102c4d7cd3694a9d976fb0e18ca79e8b5865db767b302577b1b41603d"
  },
  "kernelspec": {
   "display_name": "Python 3.9.7 64-bit ('venv': venv)",
   "name": "python3"
  },
  "language_info": {
   "codemirror_mode": {
    "name": "ipython",
    "version": 3
   },
   "file_extension": ".py",
   "mimetype": "text/x-python",
   "name": "python",
   "nbconvert_exporter": "python",
   "pygments_lexer": "ipython3",
   "version": "3.9.7"
  },
  "orig_nbformat": 4
 },
 "nbformat": 4,
 "nbformat_minor": 2
}
