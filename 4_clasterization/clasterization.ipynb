{
 "cells": [
  {
   "cell_type": "code",
   "execution_count": 712,
   "source": [
    "import numpy as np\r\n",
    "import matplotlib.pyplot as plt\r\n",
    "from matplotlib import colors\r\n",
    "from pandas import DataFrame as pd"
   ],
   "outputs": [
    {
     "output_type": "error",
     "ename": "ModuleNotFoundError",
     "evalue": "No module named 'tensorflow'",
     "traceback": [
      "\u001b[1;31m---------------------------------------------------------------------------\u001b[0m",
      "\u001b[1;31mModuleNotFoundError\u001b[0m                       Traceback (most recent call last)",
      "\u001b[1;32m~\\AppData\\Local\\Temp/ipykernel_4448/1651237767.py\u001b[0m in \u001b[0;36m<module>\u001b[1;34m\u001b[0m\n\u001b[0;32m      3\u001b[0m \u001b[1;32mfrom\u001b[0m \u001b[0mmatplotlib\u001b[0m \u001b[1;32mimport\u001b[0m \u001b[0mcolors\u001b[0m\u001b[1;33m\u001b[0m\u001b[1;33m\u001b[0m\u001b[0m\n\u001b[0;32m      4\u001b[0m \u001b[1;32mfrom\u001b[0m \u001b[0mpandas\u001b[0m \u001b[1;32mimport\u001b[0m \u001b[0mDataFrame\u001b[0m \u001b[1;32mas\u001b[0m \u001b[0mpd\u001b[0m\u001b[1;33m\u001b[0m\u001b[1;33m\u001b[0m\u001b[0m\n\u001b[1;32m----> 5\u001b[1;33m \u001b[1;32mimport\u001b[0m \u001b[0mtensorflow\u001b[0m\u001b[1;33m\u001b[0m\u001b[1;33m\u001b[0m\u001b[0m\n\u001b[0m",
      "\u001b[1;31mModuleNotFoundError\u001b[0m: No module named 'tensorflow'"
     ]
    }
   ],
   "metadata": {}
  },
  {
   "cell_type": "code",
   "execution_count": 695,
   "source": [
    "def centresSetting(df, centres):\r\n",
    "    # np.random.seed(30)\r\n",
    "    centroids = pd({\r\n",
    "        \"x\": [np.random.randint(np.max(df[\"x\"])) /1 for i in range(centres)],\r\n",
    "        \"y\": [np.random.randint(np.max(df[\"y\"])) /1 for i in range(centres)]\r\n",
    "    })\r\n",
    "    return centroids \r\n",
    "    \r\n",
    "\r\n",
    "def setWorkList(df, centres):\r\n",
    "    workList = pd({\r\n",
    "        \"x\": [df[\"x\"][i] for i in range(len(df))],\r\n",
    "        \"y\": [df[\"y\"][i] for i in range(len(df))] \r\n",
    "    })\r\n",
    "    \r\n",
    "    for i in range(len(centres)):\r\n",
    "        workList[f\"distFrom{i}\"] = (\r\n",
    "            np.sqrt(\r\n",
    "                (df[\"x\"] - centres[\"x\"][i]) ** 2 \r\n",
    "                + (df[\"y\"] - centres[\"y\"][i]) ** 2\r\n",
    "        )\r\n",
    "    )\r\n",
    "    workList[\"minrange\"] = [np.min(workList.loc[s, f\"distFrom{0}\":f\"distFrom{len(centres) - 1}\"]) for s in range(len(workList))]\r\n",
    "    workList[\"closest\"] = [np.where(((workList.loc[i, f\"distFrom{0}\":f\"distFrom{len(centres) - 1}\"]) == workList.loc[i, \"minrange\"]).to_numpy().astype(np.int8) == 1)[-1][-1] for i in range(len(workList))]\r\n",
    "    return workList\r\n",
    "\r\n",
    "\r\n",
    "def plotCentresAndWorklist(w, c):\r\n",
    "    colrs = list(colors.BASE_COLORS.keys())\r\n",
    "    for i in range(len(w)):\r\n",
    "        plt.plot(w[\"x\"][i], w[\"y\"][i], colrs[w['closest'][i]]+\"x\")\r\n",
    "\r\n",
    "    for i in range(len(c)):\r\n",
    "        plt.plot(c[\"x\"][i], c[\"y\"][i], colrs[i]+\"o\")\r\n",
    "    return plt.show()    \r\n",
    "\r\n",
    "\r\n",
    "def updateCentroids(df, centroids):\r\n",
    "    oldCentroids = pd.copy(centroids)\r\n",
    "    for i in range(len(centroids)):\r\n",
    "        centroids[\"x\"][i] = np.mean(df[df[\"closest\"] == i][\"x\"])\r\n",
    "        centroids[\"y\"][i] = np.mean(df[df[\"closest\"] == i][\"y\"])\r\n",
    "    return centroids, oldCentroids\r\n",
    "\r\n",
    "\r\n",
    "def main(df, centres):\r\n",
    "    initialCentroids = centresSetting(df = df, centres = centres)\r\n",
    "    workList = setWorkList(df = df, centres = initialCentroids)\r\n",
    "    newCentroids, oldCentroids = updateCentroids(df = workList, centroids = initialCentroids)\r\n",
    "\r\n",
    "    iters = 0\r\n",
    "    while True:\r\n",
    "        workList = setWorkList(df = workList, centres = newCentroids)\r\n",
    "        newCentroids, oldCentroids = updateCentroids(df = workList, centroids = newCentroids)\r\n",
    "        iters += 1\r\n",
    "        if newCentroids.equals(oldCentroids):\r\n",
    "            return workList, newCentroids, oldCentroids, iters"
   ],
   "outputs": [],
   "metadata": {}
  },
  {
   "cell_type": "code",
   "execution_count": 711,
   "source": [
    "dots = np.array([\r\n",
    "    [2, 3, 1, 2, 4, 1, 3, 5, 4, 3, 6, 5, 9, 11, 13, 14, 15, 15, 15, 16, 17, 14, 13, 17, 16, 17, 15, 14, 15, 14, 14, 14, 14, 16, 17, 18, 16, 16, 19, 21, 22, 23, 21, 22, 24, 22, 20], \\\r\n",
    "    [15, 15, 14, 13, 13, 12, 11, 12, 10, 7, 7, 5, 11, 13, 15, 15, 16, 13, 15, 16, 17, 17, 17, 14, 13, 11, 10, 7, 6, 6, 5, 4, 1, 5, 5, 4, 4, 2, 3, 6, 6, 6, 7, 7, 7, 8, 6]\r\n",
    "    ])\r\n",
    "dfDots = pd({\r\n",
    "    \"x\" : dots[0],\r\n",
    "    \"y\" : dots[1]\r\n",
    "    })\r\n",
    "\r\n",
    "workList, centroids, oldcentroids, iters = main(df = dfDots, centres = 4)\r\n",
    "print(\"Обновлённые центры кластеров:\\n\", centroids)\r\n",
    "print(\"Центры кластеров на предыдущей итерации:\\n\", oldcentroids)\r\n",
    "print(\"Количество итераций:\", iters)\r\n",
    "plot = plotCentresAndWorklist(w = workList, c = centroids)"
   ],
   "outputs": [
    {
     "output_type": "stream",
     "name": "stdout",
     "text": [
      "Обновлённые центры кластеров:\n",
      "            x          y\n",
      "0  14.857143  14.428571\n",
      "1   3.692308  11.153846\n",
      "2  15.583333   4.333333\n",
      "3  21.875000   6.625000\n",
      "Центры кластеров на предыдущей итерации:\n",
      "            x          y\n",
      "0  14.857143  14.428571\n",
      "1   3.692308  11.153846\n",
      "2  15.583333   4.333333\n",
      "3  21.875000   6.625000\n",
      "Количество итераций: 4\n"
     ]
    },
    {
     "output_type": "display_data",
     "data": {
      "image/png": "[encoded data removed]",
      "text/plain": [
       "<Figure size 432x288 with 1 Axes>"
      ]
     },
     "metadata": {
      "needs_background": "light"
     }
    }
   ],
   "metadata": {}
  }
 ],
 "metadata": {
  "orig_nbformat": 4,
  "language_info": {
   "name": "python",
   "version": "3.9.7",
   "mimetype": "text/x-python",
   "codemirror_mode": {
    "name": "ipython",
    "version": 3
   },
   "pygments_lexer": "ipython3",
   "nbconvert_exporter": "python",
   "file_extension": ".py"
  },
  "kernelspec": {
   "name": "python3",
   "display_name": "Python 3.9.7 64-bit"
  },
  "interpreter": {
   "hash": "32a72eb600efcfebe0c4262a08f876c81bf697009267e47a6101cf2df913593f"
  }
 },
 "nbformat": 4,
 "nbformat_minor": 2
}